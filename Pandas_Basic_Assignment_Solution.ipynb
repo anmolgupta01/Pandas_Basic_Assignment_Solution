{
 "cells": [
  {
   "cell_type": "markdown",
   "id": "29896656",
   "metadata": {},
   "source": [
    "Q1. Create a Pandas Series that contains the following data: 4, 8, 15, 16, 23, and 42. Then, print the series."
   ]
  },
  {
   "cell_type": "code",
   "execution_count": 3,
   "id": "96028c40",
   "metadata": {},
   "outputs": [],
   "source": [
    "import pandas as pd\n",
    "import logging\n",
    "logging.basicConfig(filename = \"output.log\" , level = logging.INFO)\n",
    "data = [4,8,15,16,23,42]\n",
    "series = pd.Series(data)\n",
    "logging.info(series)"
   ]
  },
  {
   "cell_type": "markdown",
   "id": "d73f6ec0",
   "metadata": {},
   "source": [
    "Q2. Create a variable of list type containing 10 elements in it, and apply pandas.Series function on the variable print it."
   ]
  },
  {
   "cell_type": "code",
   "execution_count": 4,
   "id": "db5c10e8",
   "metadata": {},
   "outputs": [],
   "source": [
    "import pandas as pd\n",
    "import logging\n",
    "logging.basicConfig(filename = \"output.log\" , level = logging.INFO)\n",
    "list_data = [1,2,3,4,5,6,7,8,9,10]\n",
    "series_data = pd.Series(list_data)\n",
    "logging.info(series_data)\n"
   ]
  },
  {
   "cell_type": "markdown",
   "id": "cc694e2b",
   "metadata": {},
   "source": [
    "Q3. Create a Pandas DataFrame that contains the following data:\n",
    "\n",
    "    Name    Age    Gender \n",
    "    \n",
    "    Alice    25    Female\n",
    "    \n",
    "    Bob      30    Male\n",
    "    \n",
    "    Claire   27    Female"
   ]
  },
  {
   "cell_type": "code",
   "execution_count": 5,
   "id": "9d3635d9",
   "metadata": {},
   "outputs": [],
   "source": [
    "import pandas as pd\n",
    "import logging\n",
    "logging.basicConfig(filename = \"output.log\" , level = logging.INFO)\n",
    "data = {\n",
    "    'Name': ['Alice', 'Bob', 'Claire'],\n",
    "    'Age': [25, 30, 27],\n",
    "    'Gender': ['Female', 'Male', 'Female']\n",
    "}\n",
    "\n",
    "df = pd.DataFrame(data)\n",
    "\n",
    "logging.info(df)"
   ]
  },
  {
   "cell_type": "markdown",
   "id": "d15a1aa8",
   "metadata": {},
   "source": [
    "Q4. What is ‘DataFrame’ in pandas and how is it different from pandas.series? Explain with an example."
   ]
  },
  {
   "cell_type": "markdown",
   "id": "b1b34ee0",
   "metadata": {},
   "source": [
    "In Pandas, a DataFrame is a two-dimensional, size-mutable, and heterogeneous tabular data structure with labeled axes (rows and columns). It is one of the primary data structures provided by the Pandas library and is similar to a spreadsheet or a SQL table. A DataFrame can hold data of different types, and it allows you to perform various data manipulation and analysis tasks efficiently.\n",
    "\n",
    "A Series, on the other hand, is a one-dimensional labeled array that can hold data of various types. It's like a column in a DataFrame or a single column of data in a spreadsheet."
   ]
  },
  {
   "cell_type": "code",
   "execution_count": 6,
   "id": "1d0e0f8b",
   "metadata": {},
   "outputs": [],
   "source": [
    "import pandas as pd\n",
    "import logging\n",
    "logging.basicConfig(filename = \"output.log\" , level = logging.INFO)\n",
    "# Creating a DataFrame\n",
    "data = {\n",
    "    'Name': ['Alice', 'Bob', 'Claire'],\n",
    "    'Age': [25, 30, 27],\n",
    "    'Gender': ['Female', 'Male', 'Female']\n",
    "}\n",
    "\n",
    "df = pd.DataFrame(data)\n",
    "logging.info(f\"DataFrame:{df}\")\n",
    "\n",
    "\n",
    "logging.info(\"\\n\")\n",
    "\n",
    "# Creating a Series\n",
    "ages = pd.Series([25, 30, 27],['Alice', 'Bob', 'Claire'], name='Age')\n",
    "logging.info(f\"Series:{ages}\")\n",
    "\n"
   ]
  },
  {
   "cell_type": "markdown",
   "id": "03d28fc8",
   "metadata": {},
   "source": [
    "Q5. What are some common functions you can use to manipulate data in a Pandas DataFrame? Can you give an example of when you might use one of these functions?"
   ]
  },
  {
   "cell_type": "markdown",
   "id": "8bb80d2f",
   "metadata": {},
   "source": [
    "Pandas provides a wide range of functions for manipulating data in a DataFrame. Here are some common functions along with examples of when you might use them:\n",
    "\n",
    "1] head() and tail(): These functions allow you to view the first few or last few rows of the DataFrame, respectively. Useful for quickly inspecting data.\n",
    "\n",
    "2] info(): Provides a summary of the DataFrame's structure, including data types and non-null counts. Helpful for understanding the dataset's characteristics.\n",
    "\n",
    "3] describe(): Generates summary statistics of numerical columns, including mean, standard deviation, minimum, maximum, and quartiles.\n",
    "\n",
    "4] shape: Returns the dimensions (rows, columns) of the DataFrame.\n",
    "\n",
    "5] loc[] and iloc[]: Used for label-based and integer-based indexing, respectively, to access specific rows and columns of the DataFrame.\n",
    "\n",
    "6] drop(): Removes specified rows or columns from the DataFrame.\n",
    "\n",
    "7]groupby(): Allows you to group data based on one or more columns and perform aggregate operations on the groups.\n",
    "\n",
    "8] sort_values(): Sorts the DataFrame by one or more columns.\n",
    "\n",
    "9] apply(): Applies a function to each element, row, or column of the DataFrame.\n",
    "\n",
    "10] merge() and concat(): Used to combine DataFrames based on common keys (merge) or along a specific axis (concatenate)."
   ]
  },
  {
   "cell_type": "code",
   "execution_count": 10,
   "id": "22543b1f",
   "metadata": {},
   "outputs": [],
   "source": [
    "#example \n",
    "import pandas as pd\n",
    "import logging\n",
    "logging.basicConfig(filename = \"output.log\" , level = logging.INFO)\n",
    "url_data = pd.read_html(\"https://www.basketball-reference.com/leagues/NBA_2015_totals.html\")\n",
    "len(url_data)\n",
    "data = url_data[0].head(4)\n",
    "logging.info(data)"
   ]
  },
  {
   "cell_type": "markdown",
   "id": "95573b55",
   "metadata": {},
   "source": [
    "Q6. Which of the following is mutable in nature Series, DataFrame, Panel?"
   ]
  },
  {
   "cell_type": "markdown",
   "id": "7da00e55",
   "metadata": {},
   "source": [
    "Among the options you've provided, the DataFrame is mutable in nature.\n",
    "\n",
    "A mutable object is one that can be modified after its creation. In the context of Pandas:\n",
    "\n",
    "Series: Series are immutable, meaning once they are created, their elements cannot be changed. You would need to create a new Series if you want to modify its contents.\n",
    "\n",
    "DataFrame: DataFrames are mutable. You can add, delete, or modify columns and rows within a DataFrame after its creation.\n",
    "\n",
    "Panel: Panels were part of older versions of Pandas and have been deprecated in favor of MultiIndex DataFrames. However, like DataFrames, Panels were also mutable."
   ]
  },
  {
   "cell_type": "markdown",
   "id": "853a0ed4",
   "metadata": {},
   "source": [
    "Q7. Create a DataFrame using multiple Series. Explain with an example."
   ]
  },
  {
   "cell_type": "code",
   "execution_count": 11,
   "id": "fe6620ef",
   "metadata": {},
   "outputs": [],
   "source": [
    "import pandas as pd\n",
    "import logging\n",
    "logging.basicConfig(filename = \"output.log\" , level = logging.INFO)\n",
    "# Creating individual Series\n",
    "names = pd.Series(['Alice', 'Bob', 'Claire'])\n",
    "ages = pd.Series([25, 30, 27])\n",
    "genders = pd.Series(['Female', 'Male', 'Female'])\n",
    "\n",
    "# Creating a DataFrame using the Series\n",
    "data = {'Name': names, 'Age': ages, 'Gender': genders}\n",
    "df = pd.DataFrame(data)\n",
    "\n",
    "logging.info(f\"{df}\")\n"
   ]
  },
  {
   "cell_type": "code",
   "execution_count": null,
   "id": "e5027d1f",
   "metadata": {},
   "outputs": [],
   "source": []
  },
  {
   "cell_type": "code",
   "execution_count": null,
   "id": "fd490d6e",
   "metadata": {},
   "outputs": [],
   "source": []
  },
  {
   "cell_type": "code",
   "execution_count": null,
   "id": "71474402",
   "metadata": {},
   "outputs": [],
   "source": []
  }
 ],
 "metadata": {
  "kernelspec": {
   "display_name": "Python 3 (ipykernel)",
   "language": "python",
   "name": "python3"
  },
  "language_info": {
   "codemirror_mode": {
    "name": "ipython",
    "version": 3
   },
   "file_extension": ".py",
   "mimetype": "text/x-python",
   "name": "python",
   "nbconvert_exporter": "python",
   "pygments_lexer": "ipython3",
   "version": "3.11.4"
  }
 },
 "nbformat": 4,
 "nbformat_minor": 5
}
